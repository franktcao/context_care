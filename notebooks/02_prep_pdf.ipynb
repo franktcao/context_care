{
 "cells": [
  {
   "cell_type": "markdown",
   "id": "2f013e2c",
   "metadata": {},
   "source": [
    "# Step 1: Extract Data from PDF\n",
    "The first step is to extract the text/data from the PDF.\n",
    "\n",
    "\n",
    "## Prerequisites\n",
    "\n",
    "Please [download](https://www.researchgate.net/profile/Gary-Clark/publication/19364043_Slamon_DJ_Clark_GM_Wong_SG_Levin_WJ_Ullrich_A_McGuire_WLHuman_breast_cancer_correlation_of_relapse_and_survival_with_amplification_of_the_HER-2neu_oncogene_Science_Wash_DC_235_177-182/links/0046352b85f241a532000000/Slamon-DJ-Clark-GM-Wong-SG-Levin-WJ-Ullrich-A-McGuire-WLHuman-breast-cancer-correlation-of-relapse-and-survival-with-amplification-of-the-HER-2-neu-oncogene-Science-Wash-DC-235-177-182.pdf) and place PDF with the name unchanged \n",
    "(`SlamonetalSCIENCE1987.pdf`) in the `data/` directory within this project's root.\n"
   ]
  },
  {
   "cell_type": "markdown",
   "id": "2f2301d6",
   "metadata": {},
   "source": [
    "# Load\n",
    "After trying few different off the shelf loaders, the one that looked the most\n",
    "reliable was `PyMuPDFLoader`."
   ]
  },
  {
   "cell_type": "code",
   "execution_count": null,
   "id": "c317c3f3",
   "metadata": {},
   "outputs": [],
   "source": [
    "import pymupdf\n",
    "from pathlib import Path\n",
    "from langchain.text_splitter import CharacterTextSplitter\n",
    "from langchain.document_loaders import PyPDFLoader, PyMuPDFLoader\n",
    "\n",
    "dpath = Path.cwd() / \"data\"\n",
    "fname = \"SlamonetalSCIENCE1987.pdf\"\n",
    "\n",
    "fpath = dpath / fname\n",
    "\n",
    "# pages = pymupdf.open(fpath, filetype=\"txt\")\n",
    "\n",
    "# loader = PyPDFLoader(fpath)\n",
    "loader = PyMuPDFLoader(fpath)\n",
    "documents = loader.load()"
   ]
  },
  {
   "cell_type": "markdown",
   "id": "aa0d3dc3",
   "metadata": {},
   "source": [
    "**Note**: When opening and viewing the PDF, you'll notice that the content of \n",
    "the article is entirely within the 3rd (index 2) and the second to last page \n",
    "(index -1):\n",
    "1. The content of the first page (index 0) is just the title, authors, and some\n",
    "metadata that's not relevant to the context we need.\n",
    "1. The second page (index 1) just has some logos, DOI, and other related \n",
    "articles that are not directly in the content of the article.\n",
    "1. The last page (index -1) is another article entirely with the \n",
    "`References and Notes` section extended from the main article.\n",
    "\n",
    "For this reason, we're only going to extract the relevant information from those\n",
    "pages."
   ]
  },
  {
   "cell_type": "code",
   "execution_count": 9,
   "id": "d6e8967f",
   "metadata": {},
   "outputs": [],
   "source": [
    "n_pages = len(documents)\n",
    "content = [doc for doc in documents if doc.metadata[\"page\"] not in [0, 1, n_pages - 1]]"
   ]
  },
  {
   "cell_type": "markdown",
   "id": "f35781b1",
   "metadata": {},
   "source": [
    "# Split Documents\n",
    "\n",
    "For performance and memory constraints, documents are split into chunks. This\n",
    "allows for quick retrieval of snippets to find the best answer for a query."
   ]
  },
  {
   "cell_type": "code",
   "execution_count": null,
   "id": "3e110f0b",
   "metadata": {},
   "outputs": [],
   "source": [
    "splitter = CharacterTextSplitter(chunk_size=1_024, chunk_overlap=32, separator=\"\\n\")\n",
    "\n",
    "split = splitter.split_documents(content)\n",
    "split[0]"
   ]
  },
  {
   "cell_type": "markdown",
   "id": "c971abeb",
   "metadata": {},
   "source": [
    "# Construct Vector Store\n",
    "Create vector store based on embeddings and document chunks."
   ]
  },
  {
   "cell_type": "code",
   "execution_count": null,
   "id": "7f386397",
   "metadata": {},
   "outputs": [],
   "source": [
    "from pathlib import Path\n",
    "from langchain.vectorstores import FAISS\n",
    "from langchain_community.llms import Ollama\n",
    "from langchain_ollama import OllamaEmbeddings\n",
    "from dotenv import load_dotenv\n",
    "\n",
    "load_dotenv()\n",
    "\n",
    "\n",
    "VECTORSTORE_PATH = Path(\"data\") / \"vectorstore\" / \"db_pdf_context\"\n",
    "MODEL_NAME = \"deepseek-r1:latest\"\n",
    "OLLAMA_SERVER_URL = \"http://localhost:11434\"\n",
    "\n",
    "\n",
    "EMBEDDINGS = OllamaEmbeddings(model=MODEL_NAME, base_url=OLLAMA_SERVER_URL)\n",
    "# LLM = Ollama(model=MODEL_NAME, base_url=OLLAMA_SERVER_URL)\n",
    "vectorstore = FAISS.from_documents(split, EMBEDDINGS)\n",
    "vectorstore.save_local(VECTORSTORE_PATH)"
   ]
  },
  {
   "cell_type": "code",
   "execution_count": 13,
   "id": "48d03281",
   "metadata": {},
   "outputs": [
    {
     "data": {
      "text/plain": [
       "'HER-2/neu amplification with various disease parameters were performed by the x2\\ntest. P values werc computed after combining the 5 to 20 and >20 cases, since there\\n-\\nwere so few samples in the >20 group.\\ni8o\\n on January 15, 2007 \\nwww.sciencemag.org\\nDownloaded from \\nBIOM 255 (Leffert) – Discussion Feb. 1, 2007'"
      ]
     },
     "execution_count": 13,
     "metadata": {},
     "output_type": "execute_result"
    }
   ],
   "source": [
    "retriever = vectorstore.as_retriever()\n",
    "\n",
    "retrieved_documents = retriever.invoke(\"What is LangChain?\")\n",
    "\n",
    "retrieved_documents[0].page_content"
   ]
  },
  {
   "cell_type": "code",
   "execution_count": 33,
   "id": "628e072e",
   "metadata": {},
   "outputs": [],
   "source": [
    "retriever = db.as_retriever()"
   ]
  },
  {
   "cell_type": "code",
   "execution_count": 37,
   "id": "93ec0366",
   "metadata": {},
   "outputs": [
    {
     "data": {
      "text/plain": [
       "'Response: Based on the provided information, it is not clear if linking proteins to cancer development or maintenance are circumstantial. The article does not provide evidence for or against the idea that LINKING PROTO-ONCOGENES TO THE INDUCtion or maintenance of human malignecies is circumstantial. Instead, the article provides a discussion on HER-2/neu amplification with various disease parameters and highlights various experimental approaches to study the relationship between these proteins and cancer development. The article also discusses the importance of studying other factors besides LINKING PROTO-ONCOGENES TO THE INDUCtion or maintenance of human malignecies in developing more targeted therapies for cancer treatment.'"
      ]
     },
     "execution_count": 37,
     "metadata": {},
     "output_type": "execute_result"
    }
   ],
   "source": [
    "from langchain.chains import RetrievalQA\n",
    "from langchain import PromptTemplate\n",
    "\n",
    "\n",
    "LLM = Ollama(model=MODEL_NAME, base_url=OLLAMA_SERVER_URL)\n",
    "question = \"Is LINKING PROTO-ONCOGENES TO THE INDUCtion or maintenance of human malignancies circumstantial?\"\n",
    "custom_prompt_template = \"\"\"Use the following pieces of information to answer the user's question.\n",
    "If you don't know the answer, just say that you don't know.\n",
    "\n",
    "Context: {context}\n",
    "Question: {question}\n",
    "\n",
    "Only return the helpful answer below and nothing else.\n",
    "Helpful answer:\n",
    "\"\"\"\n",
    "prompt = PromptTemplate(template=custom_prompt_template, input_variables=['context', 'question'])\n",
    "chain = RetrievalQA.from_chain_type(\n",
    "    llm=LLM, \n",
    "    # chain_type='stuff', \n",
    "    retriever=retriever,\n",
    "    # return_source_documents=True, \n",
    "    # chain_type_kwargs={'prompt': prompt}\n",
    ")\n",
    "\n",
    "# result = chain.invoke(question)\n",
    "result = chain.invoke(question)\n",
    "result[\"result\"]"
   ]
  },
  {
   "cell_type": "code",
   "execution_count": 38,
   "id": "aa32b25a",
   "metadata": {},
   "outputs": [
    {
     "data": {
      "text/plain": [
       "{'query': 'Is LINKING PROTO-ONCOGENES TO THE INDUCtion or maintenance of human malignancies circumstantial?',\n",
       " 'result': 'Response: Based on the provided information, it is not clear if linking proteins to cancer development or maintenance are circumstantial. The article does not provide evidence for or against the idea that LINKING PROTO-ONCOGENES TO THE INDUCtion or maintenance of human malignecies is circumstantial. Instead, the article provides a discussion on HER-2/neu amplification with various disease parameters and highlights various experimental approaches to study the relationship between these proteins and cancer development. The article also discusses the importance of studying other factors besides LINKING PROTO-ONCOGENES TO THE INDUCtion or maintenance of human malignecies in developing more targeted therapies for cancer treatment.'}"
      ]
     },
     "execution_count": 38,
     "metadata": {},
     "output_type": "execute_result"
    }
   ],
   "source": [
    "result"
   ]
  },
  {
   "cell_type": "code",
   "execution_count": 31,
   "id": "2b8a90ed",
   "metadata": {},
   "outputs": [
    {
     "data": {
      "text/plain": [
       "[Document(id='5bc54a11-155f-4814-8700-f7d62707d8c6', metadata={'producer': 'Adobe PDF Library 7.0', 'creator': '', 'creationdate': '2007-01-15T15:29:22+00:00', 'source': '/Users/franktcao/local/workspace/context_care/data/SlamonetalSCIENCE1987.pdf', 'file_path': '/Users/franktcao/local/workspace/context_care/data/SlamonetalSCIENCE1987.pdf', 'total_pages': 8, 'format': 'PDF 1.6', 'title': '', 'author': '', 'subject': '', 'keywords': '', 'moddate': '2008-03-03T11:28:12-08:00', 'trapped': '', 'modDate': \"D:20080303112812-08'00'\", 'creationDate': 'D:20070115152922Z', 'page': 2}, page_content='domain, a transmembrane domain that includes two cysteine-rich\\nrepeat dusters, and an intracellular kinase domain (21), indicating\\nD. J. Slamon, S. G. Wong, and W. J. Levin are in the Division of Hematology-\\nOncokogy, Department of Medicine and Jonsson Comprehensive Cancer Center,\\nUCLA School ofMedicine, Los Angcels, CA 90024. G. AM. Clark and W. L. McGuire\\nare in the Division ofOncology, Department ofMedicine, University ofTexas Health\\nScience Ccnter at San Antonio, San Antonio, TX 78284. A. Utlrich\\nis in the\\nDeparmenet ofMolecular Biology, Gcnentech, Inc., South San Francisco, CA 94080.\\n*To whom correspondence should be addressed.\\nARTICLES\\n177\\n on January 15, 2007 \\nwww.sciencemag.org\\nDownloaded from \\nBIOM 255 (Leffert) – Discussion Feb. 1, 2007'),\n",
       " Document(id='16a74fb7-f994-4d4b-8122-4860974a0903', metadata={'producer': 'Adobe PDF Library 7.0', 'creator': '', 'creationdate': '2007-01-15T15:29:22+00:00', 'source': '/Users/franktcao/local/workspace/context_care/data/SlamonetalSCIENCE1987.pdf', 'file_path': '/Users/franktcao/local/workspace/context_care/data/SlamonetalSCIENCE1987.pdf', 'total_pages': 8, 'format': 'PDF 1.6', 'title': '', 'author': '', 'subject': '', 'keywords': '', 'moddate': '2008-03-03T11:28:12-08:00', 'trapped': '', 'modDate': \"D:20080303112812-08'00'\", 'creationDate': 'D:20070115152922Z', 'page': 3}, page_content='amounts of high molecular weight DNA (Fig. 2B). Individual\\ntumors were assigned to groups containing a single copy, 2 to 5\\ncopies, 5 to 20 copies, and greater than 20 copies ofthe HER-2/neu\\ngene (Fig. 1). Assignment oftumors to the various groups was done\\nu 0-S;0,-M;60StJ~~~~~kb\\ntN~~~~~~~~-12\\nsion: 2x SSC for 20 minutes at room tempera-\\n0.5x SSC, 0.1% SDS at 650C. Filters were then\\nture; two washes of 30 minutes each in 2 x SSC,\\nexposed to XAR-5 x-ray film (Kodak) for autora-\\n0.1% SDS at 65°C; one wash of 30 minutes in\\ndiography.\\nSCIENCE, VOL. 235\\n on January 15, 2007 \\nwww.sciencemag.org\\nDownloaded from \\nBIOM 255 (Leffert) – Discussion Feb. 1, 2007')]"
      ]
     },
     "execution_count": 31,
     "metadata": {},
     "output_type": "execute_result"
    }
   ],
   "source": [
    "# result[\"result\"]\n",
    "result[\"source_documents\"]"
   ]
  },
  {
   "cell_type": "markdown",
   "id": "411062ce",
   "metadata": {},
   "source": [
    "# Conclusions\n",
    "\n",
    "If there was more time, it would be good to do some text cleaning since there \n",
    "are some issues (some misspellings/typos) in the text extraction in the OCR \n",
    "step."
   ]
  },
  {
   "cell_type": "code",
   "execution_count": null,
   "id": "81427934",
   "metadata": {},
   "outputs": [],
   "source": []
  }
 ],
 "metadata": {
  "kernelspec": {
   "display_name": ".venv",
   "language": "python",
   "name": "python3"
  },
  "language_info": {
   "codemirror_mode": {
    "name": "ipython",
    "version": 3
   },
   "file_extension": ".py",
   "mimetype": "text/x-python",
   "name": "python",
   "nbconvert_exporter": "python",
   "pygments_lexer": "ipython3",
   "version": "3.12.2"
  }
 },
 "nbformat": 4,
 "nbformat_minor": 5
}
