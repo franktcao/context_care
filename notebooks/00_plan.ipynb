{
 "cells": [
  {
   "cell_type": "markdown",
   "id": "ef778e6d",
   "metadata": {},
   "source": [
    "# Plan\n",
    "\n",
    "This notebook has no code and is meant to be a space to plan out the steps in \n",
    "constructing the chatbot with contextual knowledge of a given PDF study.\n",
    "\n",
    "The idea will be to augment/enhance an open source LLM to include knowledge of \n",
    "the study, using RAG, instead of re/training a model from scratch."
   ]
  },
  {
   "cell_type": "markdown",
   "id": "a806dff2",
   "metadata": {},
   "source": [
    "1. Extract data/text from the PDF\n",
    "2. Construct Embeddings with information from PDF and store in a vector DB.\n",
    "3. Use a pre-trained, open source LLM with the vector DB to query and retrieve\n",
    "information pertinent to the article.\n",
    "4. Wrap the enhanced LLM in an interface to use as a chatbot"
   ]
  },
  {
   "cell_type": "markdown",
   "id": "237cd603",
   "metadata": {},
   "source": []
  }
 ],
 "metadata": {
  "language_info": {
   "name": "python"
  }
 },
 "nbformat": 4,
 "nbformat_minor": 5
}
